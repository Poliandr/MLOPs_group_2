{
 "cells": [
  {
   "cell_type": "code",
   "execution_count": 1,
   "metadata": {},
   "outputs": [],
   "source": [
    "import opendatasets as od # Importing the opendatasets library to download the dataset from Kaggle\n",
    "import pandas as pd # Importing the pandas library to work with the tabular dataset\n",
    "from sklearn.preprocessing import OneHotEncoder, MinMaxScaler, OrdinalEncoder # importing the necessary classes to process the data\n",
    "from sklearn.compose import ColumnTransformer # importing the 'ColumnTransformer' class to build a complex transformer\n",
    "from sklearn.pipeline import Pipeline # import the 'Pipeline' class to build pipeline\n",
    "from sklearn.linear_model import LogisticRegression # import the 'LogisticRegression' for prediction\n",
    "import joblib # import the 'joblib' module to save or download the model"
   ]
  },
  {
   "cell_type": "code",
   "execution_count": 2,
   "metadata": {},
   "outputs": [
    {
     "name": "stdout",
     "output_type": "stream",
     "text": [
      "Dataset URL: https://www.kaggle.com/datasets/poojakeer/e-commerce-dataset\n",
      "Downloading e-commerce-dataset.zip to ./e-commerce-dataset\n"
     ]
    },
    {
     "name": "stderr",
     "output_type": "stream",
     "text": [
      "100%|██████████| 121k/121k [00:00<00:00, 306kB/s]"
     ]
    },
    {
     "name": "stdout",
     "output_type": "stream",
     "text": [
      "\n"
     ]
    },
    {
     "name": "stderr",
     "output_type": "stream",
     "text": [
      "\n"
     ]
    }
   ],
   "source": [
    "# Download the data from Kaggle\n",
    "od.download(\n",
    "    \"https://www.kaggle.com/datasets/poojakeer/e-commerce-dataset\",\n",
    "     force=True\n",
    "     )"
   ]
  },
  {
   "cell_type": "code",
   "execution_count": 3,
   "metadata": {},
   "outputs": [
    {
     "data": {
      "text/html": [
       "<div>\n",
       "<style scoped>\n",
       "    .dataframe tbody tr th:only-of-type {\n",
       "        vertical-align: middle;\n",
       "    }\n",
       "\n",
       "    .dataframe tbody tr th {\n",
       "        vertical-align: top;\n",
       "    }\n",
       "\n",
       "    .dataframe thead th {\n",
       "        text-align: right;\n",
       "    }\n",
       "</style>\n",
       "<table border=\"1\" class=\"dataframe\">\n",
       "  <thead>\n",
       "    <tr style=\"text-align: right;\">\n",
       "      <th></th>\n",
       "      <th>ID</th>\n",
       "      <th>Warehouse_block</th>\n",
       "      <th>Mode_of_Shipment</th>\n",
       "      <th>Customer_care_calls</th>\n",
       "      <th>Customer_rating</th>\n",
       "      <th>Cost_of_the_Product</th>\n",
       "      <th>Prior_purchases</th>\n",
       "      <th>Product_importance</th>\n",
       "      <th>Gender</th>\n",
       "      <th>Discount_offered</th>\n",
       "      <th>Weight_in_gms</th>\n",
       "      <th>Reached.on.Time_Y.N</th>\n",
       "    </tr>\n",
       "  </thead>\n",
       "  <tbody>\n",
       "    <tr>\n",
       "      <th>0</th>\n",
       "      <td>1</td>\n",
       "      <td>D</td>\n",
       "      <td>Flight</td>\n",
       "      <td>4</td>\n",
       "      <td>2</td>\n",
       "      <td>177</td>\n",
       "      <td>3</td>\n",
       "      <td>low</td>\n",
       "      <td>F</td>\n",
       "      <td>44</td>\n",
       "      <td>1233</td>\n",
       "      <td>1</td>\n",
       "    </tr>\n",
       "    <tr>\n",
       "      <th>1</th>\n",
       "      <td>2</td>\n",
       "      <td>F</td>\n",
       "      <td>Flight</td>\n",
       "      <td>4</td>\n",
       "      <td>5</td>\n",
       "      <td>216</td>\n",
       "      <td>2</td>\n",
       "      <td>low</td>\n",
       "      <td>M</td>\n",
       "      <td>59</td>\n",
       "      <td>3088</td>\n",
       "      <td>1</td>\n",
       "    </tr>\n",
       "    <tr>\n",
       "      <th>2</th>\n",
       "      <td>3</td>\n",
       "      <td>A</td>\n",
       "      <td>Flight</td>\n",
       "      <td>2</td>\n",
       "      <td>2</td>\n",
       "      <td>183</td>\n",
       "      <td>4</td>\n",
       "      <td>low</td>\n",
       "      <td>M</td>\n",
       "      <td>48</td>\n",
       "      <td>3374</td>\n",
       "      <td>1</td>\n",
       "    </tr>\n",
       "  </tbody>\n",
       "</table>\n",
       "</div>"
      ],
      "text/plain": [
       "   ID Warehouse_block Mode_of_Shipment  Customer_care_calls  Customer_rating  \\\n",
       "0   1               D           Flight                    4                2   \n",
       "1   2               F           Flight                    4                5   \n",
       "2   3               A           Flight                    2                2   \n",
       "\n",
       "   Cost_of_the_Product  Prior_purchases Product_importance Gender  \\\n",
       "0                  177                3                low      F   \n",
       "1                  216                2                low      M   \n",
       "2                  183                4                low      M   \n",
       "\n",
       "   Discount_offered  Weight_in_gms  Reached.on.Time_Y.N  \n",
       "0                44           1233                    1  \n",
       "1                59           3088                    1  \n",
       "2                48           3374                    1  "
      ]
     },
     "execution_count": 3,
     "metadata": {},
     "output_type": "execute_result"
    }
   ],
   "source": [
    "df = pd.read_csv('./e-commerce-dataset/Train.csv') # Load the dataset into a pandas dataframe\n",
    "df.head(3) # Display the first few rows of the dataframe "
   ]
  },
  {
   "cell_type": "code",
   "execution_count": 4,
   "metadata": {},
   "outputs": [
    {
     "name": "stdout",
     "output_type": "stream",
     "text": [
      "<class 'pandas.core.frame.DataFrame'>\n",
      "RangeIndex: 10999 entries, 0 to 10998\n",
      "Data columns (total 11 columns):\n",
      " #   Column               Non-Null Count  Dtype \n",
      "---  ------               --------------  ----- \n",
      " 0   Warehouse_block      10999 non-null  object\n",
      " 1   Mode_of_Shipment     10999 non-null  object\n",
      " 2   Customer_care_calls  10999 non-null  int64 \n",
      " 3   Customer_rating      10999 non-null  int64 \n",
      " 4   Cost_of_the_Product  10999 non-null  int64 \n",
      " 5   Prior_purchases      10999 non-null  int64 \n",
      " 6   Product_importance   10999 non-null  object\n",
      " 7   Gender               10999 non-null  object\n",
      " 8   Discount_offered     10999 non-null  int64 \n",
      " 9   Weight_in_gms        10999 non-null  int64 \n",
      " 10  Reached.on.Time_Y.N  10999 non-null  int64 \n",
      "dtypes: int64(7), object(4)\n",
      "memory usage: 945.4+ KB\n"
     ]
    }
   ],
   "source": [
    "df.drop('ID', axis=1, inplace=True) if \"ID\" in df.columns else None # Drop the 'ID' column from the dataset if exists\n",
    "df.to_csv('./e-commerce-dataset/Train.csv', index=False) # Save the modified dataset back to the file\n",
    "df = pd.read_csv('./e-commerce-dataset/Train.csv') # Load the dataset into a pandas dataframe\n",
    "df.info() # Display information about the dataset"
   ]
  },
  {
   "cell_type": "code",
   "execution_count": 5,
   "metadata": {},
   "outputs": [
    {
     "name": "stdout",
     "output_type": "stream",
     "text": [
      "Overwriting test_dataset.py\n"
     ]
    }
   ],
   "source": [
    "%%writefile test_dataset.py\n",
    "import pandas as pd # Importing the pandas library to work with the tabular dataset\n",
    "\n",
    "\n",
    "df = pd.read_csv('./e-commerce-dataset/Train.csv') # Load the dataset into a pandas dataframe\n",
    "\n",
    "def check_data_types(df):\n",
    "    \"\"\"\n",
    "    Check the column data type\n",
    "    \"\"\"\n",
    "    return df.dtypes.apply(lambda x: x.name).to_dict()\n",
    "\n",
    "def test_numeric_columns():\n",
    "    \"\"\"\n",
    "    Testing dataframe columns for MinMaxScaler\n",
    "    \"\"\"\n",
    "    columns_list = ['Customer_care_calls', 'Customer_rating', 'Cost_of_the_Product', 'Prior_purchases', 'Discount_offered', 'Weight_in_gms']\n",
    "    columns_dict = check_data_types(df)\n",
    "    assert all(columns_dict[column] == 'int64' for column in columns_list)\n",
    "    \n",
    "def check_column_names(df):\n",
    "    \"\"\"\n",
    "    Check if the 'ID' column is not present in the dataset\n",
    "    \"\"\"\n",
    "    return \"ID\" not in df.columns\n",
    "\n",
    "def test_check_column_names():\n",
    "    \"\"\"\n",
    "    Test the 'check_column_names' function\n",
    "    \"\"\"\n",
    "    assert check_column_names(df) == True\n",
    "\n",
    "def check_duplicates(df):\n",
    "    \"\"\"\n",
    "    Check the number of duplicate rows in the dataset\n",
    "    \"\"\"\n",
    "    return df.duplicated().sum()\n",
    "\n",
    "def test_check_duplicates():\n",
    "    \"\"\"\n",
    "    Test the check_duplicates function\n",
    "    \"\"\"\n",
    "    assert check_duplicates(df) == 0\n",
    "\n",
    "def check_missing_values(df):\n",
    "    \"\"\"\n",
    "    Check the number of missing values in the dataset\n",
    "    \"\"\"\n",
    "    return df.isnull().sum().sum()\n",
    "\n",
    "def test_check_missing_values():\n",
    "    \"\"\"\n",
    "    Test the check_missing_values function\n",
    "    \"\"\"\n",
    "    assert check_missing_values(df) == 0"
   ]
  },
  {
   "cell_type": "code",
   "execution_count": 6,
   "metadata": {},
   "outputs": [
    {
     "data": {
      "text/html": [
       "<div>\n",
       "<style scoped>\n",
       "    .dataframe tbody tr th:only-of-type {\n",
       "        vertical-align: middle;\n",
       "    }\n",
       "\n",
       "    .dataframe tbody tr th {\n",
       "        vertical-align: top;\n",
       "    }\n",
       "\n",
       "    .dataframe thead th {\n",
       "        text-align: right;\n",
       "    }\n",
       "</style>\n",
       "<table border=\"1\" class=\"dataframe\">\n",
       "  <thead>\n",
       "    <tr style=\"text-align: right;\">\n",
       "      <th></th>\n",
       "      <th>Warehouse_block</th>\n",
       "      <th>Mode_of_Shipment</th>\n",
       "      <th>Customer_care_calls</th>\n",
       "      <th>Customer_rating</th>\n",
       "      <th>Cost_of_the_Product</th>\n",
       "      <th>Prior_purchases</th>\n",
       "      <th>Product_importance</th>\n",
       "      <th>Gender</th>\n",
       "      <th>Discount_offered</th>\n",
       "      <th>Weight_in_gms</th>\n",
       "      <th>Reached.on.Time_Y.N</th>\n",
       "    </tr>\n",
       "  </thead>\n",
       "  <tbody>\n",
       "    <tr>\n",
       "      <th>0</th>\n",
       "      <td>D</td>\n",
       "      <td>Flight</td>\n",
       "      <td>4</td>\n",
       "      <td>2</td>\n",
       "      <td>177</td>\n",
       "      <td>3</td>\n",
       "      <td>low</td>\n",
       "      <td>F</td>\n",
       "      <td>44</td>\n",
       "      <td>1233</td>\n",
       "      <td>1</td>\n",
       "    </tr>\n",
       "    <tr>\n",
       "      <th>1</th>\n",
       "      <td>F</td>\n",
       "      <td>Flight</td>\n",
       "      <td>4</td>\n",
       "      <td>5</td>\n",
       "      <td>216</td>\n",
       "      <td>2</td>\n",
       "      <td>low</td>\n",
       "      <td>M</td>\n",
       "      <td>59</td>\n",
       "      <td>3088</td>\n",
       "      <td>1</td>\n",
       "    </tr>\n",
       "    <tr>\n",
       "      <th>2</th>\n",
       "      <td>A</td>\n",
       "      <td>Flight</td>\n",
       "      <td>2</td>\n",
       "      <td>2</td>\n",
       "      <td>183</td>\n",
       "      <td>4</td>\n",
       "      <td>low</td>\n",
       "      <td>M</td>\n",
       "      <td>48</td>\n",
       "      <td>3374</td>\n",
       "      <td>1</td>\n",
       "    </tr>\n",
       "  </tbody>\n",
       "</table>\n",
       "</div>"
      ],
      "text/plain": [
       "  Warehouse_block Mode_of_Shipment  Customer_care_calls  Customer_rating  \\\n",
       "0               D           Flight                    4                2   \n",
       "1               F           Flight                    4                5   \n",
       "2               A           Flight                    2                2   \n",
       "\n",
       "   Cost_of_the_Product  Prior_purchases Product_importance Gender  \\\n",
       "0                  177                3                low      F   \n",
       "1                  216                2                low      M   \n",
       "2                  183                4                low      M   \n",
       "\n",
       "   Discount_offered  Weight_in_gms  Reached.on.Time_Y.N  \n",
       "0                44           1233                    1  \n",
       "1                59           3088                    1  \n",
       "2                48           3374                    1  "
      ]
     },
     "execution_count": 6,
     "metadata": {},
     "output_type": "execute_result"
    }
   ],
   "source": [
    "df.head(3) # Display the first few rows of the dataframe"
   ]
  },
  {
   "cell_type": "code",
   "execution_count": 7,
   "metadata": {},
   "outputs": [],
   "source": [
    "# preprocess the data with a ColumnTransformer\n",
    "transforms = ColumnTransformer([\n",
    "    ('ohe', OneHotEncoder(drop='first'), ['Warehouse_block', 'Mode_of_Shipment', 'Gender']),\n",
    "    ('minmax', MinMaxScaler(), ['Customer_care_calls', 'Customer_rating', 'Cost_of_the_Product', 'Prior_purchases', 'Discount_offered', 'Weight_in_gms']),\n",
    "    ('ordinal', OrdinalEncoder(categories=[['low', 'medium', 'high']]), ['Product_importance'])\n",
    "])\n",
    "# create a pipeline with the ColumnTransformer and a logistic regression model\n",
    "model = Pipeline([\n",
    "    ('preprocess', transforms),\n",
    "    ('logreg', LogisticRegression())\n",
    "])"
   ]
  },
  {
   "cell_type": "code",
   "execution_count": 8,
   "metadata": {},
   "outputs": [
    {
     "data": {
      "text/plain": [
       "array([1])"
      ]
     },
     "execution_count": 8,
     "metadata": {},
     "output_type": "execute_result"
    }
   ],
   "source": [
    "X, y = df.drop('Reached.on.Time_Y.N', axis=1), df['Reached.on.Time_Y.N'] # Split the dataset into features and target\n",
    "model.fit(X, y) # Fit the model on the training data\n",
    "joblib.dump(model, 'model.pkl') # Save the model to a file\n",
    "\n",
    "model.predict(X[9:10]) # Make a prediction using the model"
   ]
  }
 ],
 "metadata": {
  "kernelspec": {
   "display_name": "venv",
   "language": "python",
   "name": "python3"
  },
  "language_info": {
   "codemirror_mode": {
    "name": "ipython",
    "version": 3
   },
   "file_extension": ".py",
   "mimetype": "text/x-python",
   "name": "python",
   "nbconvert_exporter": "python",
   "pygments_lexer": "ipython3",
   "version": "3.10.12"
  }
 },
 "nbformat": 4,
 "nbformat_minor": 2
}
